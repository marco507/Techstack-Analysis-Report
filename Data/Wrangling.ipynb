{
 "cells": [
  {
   "cell_type": "code",
   "execution_count": 1,
   "id": "32f1aee2",
   "metadata": {},
   "outputs": [],
   "source": [
    "import os\n",
    "import pandas as pd\n",
    "import re\n",
    "import itertools"
   ]
  },
  {
   "cell_type": "code",
   "execution_count": 12,
   "id": "ee28a6cb",
   "metadata": {},
   "outputs": [
    {
     "data": {
      "text/plain": [
       "(9950, 3)"
      ]
     },
     "execution_count": 12,
     "metadata": {},
     "output_type": "execute_result"
    }
   ],
   "source": [
    "folder_path = 'Techstacks'\n",
    "\n",
    "files = []\n",
    "for file in os.listdir(folder_path):\n",
    "    \n",
    "    file_path = os.path.join(folder_path, file)\n",
    "    df = pd.read_csv(file_path, sep=';', header=None, names=['Link', 'Branch', 'Techstack'])\n",
    "    files.append(df)\n",
    "    \n",
    "df = pd.concat(files, ignore_index=True)\n",
    "df.drop_duplicates(inplace=True)\n",
    "df.shape"
   ]
  },
  {
   "cell_type": "markdown",
   "id": "5056aba2",
   "metadata": {},
   "source": [
    "### Technologies"
   ]
  },
  {
   "cell_type": "code",
   "execution_count": 23,
   "id": "e5b8b512",
   "metadata": {},
   "outputs": [
    {
     "data": {
      "text/plain": [
       "315"
      ]
     },
     "execution_count": 23,
     "metadata": {},
     "output_type": "execute_result"
    }
   ],
   "source": [
    "technologies = df['Techstack'].to_list()\n",
    "technologies = [tech.split(',') for tech in technologies]\n",
    "technologies = list(itertools.chain.from_iterable(technologies))\n",
    "technologies = [re.sub(r'[^A-Za-z0-9. ]', '', tech).strip() for tech in technologies]\n",
    "technologies = list(set(technologies))\n",
    "len(technologies)"
   ]
  },
  {
   "cell_type": "markdown",
   "id": "5eaec46d",
   "metadata": {},
   "source": [
    "### Categories"
   ]
  },
  {
   "cell_type": "code",
   "execution_count": 24,
   "id": "50c92740",
   "metadata": {},
   "outputs": [
    {
     "name": "stderr",
     "output_type": "stream",
     "text": [
      "/home/marco/anaconda3/lib/python3.11/site-packages/Wappalyzer/Wappalyzer.py:226: UserWarning: Caught 'unbalanced parenthesis at position 119' compiling regex: ['(?:<div class=\"sf-toolbar[^>]+?>[^]+<span class=\"sf-toolbar-value\">([\\\\d.])+|<div id=\"sfwdt[^\"]+\" class=\"[^\"]*sf-toolbar)', 'version:\\\\1']\n",
      "  warnings.warn(\n"
     ]
    }
   ],
   "source": [
    "from Wappalyzer import Wappalyzer\n",
    "wappalyzer = Wappalyzer.latest()"
   ]
  },
  {
   "cell_type": "code",
   "execution_count": 25,
   "id": "b28cf656",
   "metadata": {},
   "outputs": [
    {
     "data": {
      "text/plain": [
       "40"
      ]
     },
     "execution_count": 25,
     "metadata": {},
     "output_type": "execute_result"
    }
   ],
   "source": [
    "categories = []\n",
    "\n",
    "for technology in technologies:\n",
    "    \n",
    "    category = wappalyzer.get_categories(technology)\n",
    "    \n",
    "    for i in category:\n",
    "        if i in categories:\n",
    "            continue\n",
    "        \n",
    "        categories.append(i)\n",
    "        \n",
    "len(categories)"
   ]
  },
  {
   "cell_type": "markdown",
   "id": "7873e0f4",
   "metadata": {},
   "source": [
    "### Database"
   ]
  },
  {
   "cell_type": "code",
   "execution_count": 26,
   "id": "60d86547",
   "metadata": {},
   "outputs": [],
   "source": [
    "import sqlite3\n",
    "con = sqlite3.connect('data.db')\n",
    "cur = con.cursor()"
   ]
  },
  {
   "cell_type": "code",
   "execution_count": 27,
   "id": "856b3468",
   "metadata": {},
   "outputs": [
    {
     "data": {
      "text/plain": [
       "<sqlite3.Cursor at 0x7f1c4d5761c0>"
      ]
     },
     "execution_count": 27,
     "metadata": {},
     "output_type": "execute_result"
    }
   ],
   "source": [
    "# Schema creation\n",
    "cur.execute(\n",
    "    \"\"\"CREATE TABLE Category (\n",
    "    ID INTEGER PRIMARY KEY,\n",
    "    Name VARCHAR(128) NOT NULL\n",
    "    )\n",
    "    \"\"\"\n",
    ")\n",
    "\n",
    "cur.execute(\n",
    "    \"\"\"CREATE TABLE Technology (\n",
    "    ID INTEGER PRIMARY KEY,\n",
    "    Name VARCHAR(128) NOT NULL\n",
    "    )\n",
    "    \"\"\"\n",
    ")\n",
    "\n",
    "cur.execute(\n",
    "    \"\"\"CREATE TABLE Website (\n",
    "    ID INTEGER PRIMARY KEY,\n",
    "    Link VARCHAR(255) NOT NULL,\n",
    "    Branche VARCHAR(128) NOT NULL\n",
    "    )\n",
    "    \"\"\"\n",
    ")\n",
    "\n",
    "cur.execute(\n",
    "    \"\"\"CREATE TABLE Technology_Category (\n",
    "    TechnologyID INTEGER NOT NULL,\n",
    "    CategoryID INTEGER NOT NULL,\n",
    "    PRIMARY KEY(TechnologyID, CategoryID),\n",
    "    FOREIGN KEY(TechnologyID) REFERENCES Technology(ID) ON DELETE CASCADE,\n",
    "    FOREIGN KEY(CategoryID) REFERENCES Category(ID) ON DELETE CASCADE\n",
    "    )\n",
    "    \"\"\"\n",
    ")\n",
    "\n",
    "cur.execute(\n",
    "    \"\"\"CREATE TABLE Website_Technology (\n",
    "    WebsiteID INTEGER NOT NULL,\n",
    "    TechnologyID INTEGER NOT NULL,\n",
    "    PRIMARY KEY(WebsiteID, TechnologyID),\n",
    "    FOREIGN KEY(WebsiteID) REFERENCES Website(ID) ON DELETE CASCADE,\n",
    "    FOREIGN KEY(TechnologyID) REFERENCES Technology(ID) ON DELETE CASCADE\n",
    "    )\n",
    "    \"\"\"\n",
    ")"
   ]
  },
  {
   "cell_type": "markdown",
   "id": "9e5f27c6",
   "metadata": {},
   "source": [
    "#### Website Table"
   ]
  },
  {
   "cell_type": "code",
   "execution_count": 29,
   "id": "2b4139eb",
   "metadata": {},
   "outputs": [],
   "source": [
    "links = df['Link'].to_list()\n",
    "branch = df['Branch'].to_list()\n",
    "\n",
    "for i in range(len(links)):\n",
    "    cur.execute(\"\"\"INSERT INTO Website VALUES(NULL, ?, ?)\"\"\", (links[i], branch[i]))\n",
    "    \n",
    "con.commit()"
   ]
  },
  {
   "cell_type": "markdown",
   "id": "3db003f6",
   "metadata": {},
   "source": [
    "#### Technology Table"
   ]
  },
  {
   "cell_type": "code",
   "execution_count": 30,
   "id": "b97db592",
   "metadata": {},
   "outputs": [],
   "source": [
    "for technology in technologies:\n",
    "    cur.execute(\"\"\"INSERT INTO Technology VALUES(NULL, ?)\"\"\", (technology,))\n",
    "    \n",
    "con.commit()"
   ]
  },
  {
   "cell_type": "markdown",
   "id": "53c070b0",
   "metadata": {},
   "source": [
    "#### Category Table"
   ]
  },
  {
   "cell_type": "code",
   "execution_count": 31,
   "id": "afef892b",
   "metadata": {},
   "outputs": [],
   "source": [
    "for category in categories:\n",
    "    cur.execute(\"\"\"INSERT INTO Category VALUES(NULL, ?)\"\"\", (category,))\n",
    "    \n",
    "con.commit()"
   ]
  },
  {
   "cell_type": "markdown",
   "id": "9acf0256",
   "metadata": {},
   "source": [
    "#### Technology_Category Table"
   ]
  },
  {
   "cell_type": "code",
   "execution_count": 32,
   "id": "d4993e83",
   "metadata": {},
   "outputs": [],
   "source": [
    "for technology in technologies:\n",
    "    \n",
    "    technology_id = technologies.index(technology)+1\n",
    "    technology_categories = wappalyzer.get_categories(technology)\n",
    "    \n",
    "    if technology_categories:\n",
    "        for category in technology_categories:\n",
    "            category_id = categories.index(category)+1\n",
    "            cur.execute(\"\"\"INSERT INTO Technology_Category VALUES(?, ?)\"\"\", (technology_id, category_id))       \n",
    "    \n",
    "con.commit()"
   ]
  },
  {
   "cell_type": "markdown",
   "id": "8b2e4e11",
   "metadata": {},
   "source": [
    "#### Website_Technology Table"
   ]
  },
  {
   "cell_type": "code",
   "execution_count": 33,
   "id": "69107855",
   "metadata": {},
   "outputs": [],
   "source": [
    "techstacks = df['Techstack'].to_list()\n",
    "techstacks = [stack.split(',') for stack in techstacks]\n",
    "techstacks = [[re.sub(r'[^A-Za-z0-9. ]', '', tech).strip() for tech in stack] for stack in techstacks]"
   ]
  },
  {
   "cell_type": "code",
   "execution_count": 34,
   "id": "a46fcd3b",
   "metadata": {},
   "outputs": [],
   "source": [
    "for i in range(len(links)):\n",
    "    \n",
    "    website_id = i+1\n",
    "    website_stack = techstacks[i]\n",
    "    \n",
    "    for technology in website_stack:\n",
    "        \n",
    "        technology_id = technologies.index(technology)+1\n",
    "        \n",
    "        cur.execute(\"\"\"INSERT INTO Website_Technology VALUES(?, ?)\"\"\", (website_id, technology_id))\n",
    "    \n",
    "con.commit()   "
   ]
  }
 ],
 "metadata": {
  "kernelspec": {
   "display_name": "Python 3 (ipykernel)",
   "language": "python",
   "name": "python3"
  },
  "language_info": {
   "codemirror_mode": {
    "name": "ipython",
    "version": 3
   },
   "file_extension": ".py",
   "mimetype": "text/x-python",
   "name": "python",
   "nbconvert_exporter": "python",
   "pygments_lexer": "ipython3",
   "version": "3.11.5"
  }
 },
 "nbformat": 4,
 "nbformat_minor": 5
}
